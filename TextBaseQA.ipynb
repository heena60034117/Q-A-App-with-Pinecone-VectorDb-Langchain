{
 "cells": [
  {
   "cell_type": "code",
   "execution_count": 48,
   "id": "70016550-9a30-42be-9709-feae5344ce09",
   "metadata": {},
   "outputs": [],
   "source": [
    "import os\n",
    "from langchain_pinecone import PineconeVectorStore\n",
    "from langchain_openai import OpenAIEmbeddings\n",
    "from langchain_community.document_loaders import TextLoader\n",
    "from langchain_text_splitters import CharacterTextSplitter\n",
    "from langchain.document_loaders import PyPDFDirectoryLoader\n",
    "from langchain.text_splitter import RecursiveCharacterTextSplitter\n",
    "from langchain.llms import OpenAI\n",
    "from langchain.chains import RetrievalQA"
   ]
  },
  {
   "cell_type": "code",
   "execution_count": 2,
   "id": "0b2113c2-c7a0-4eec-a5a0-63deeec648c3",
   "metadata": {},
   "outputs": [],
   "source": [
    "os.environ['OPENAI_API_KEY'] = '<YOUR_OPENAI_API_KEY>'\n",
    "os.environ['PINECONE_API_KEY'] = '<YOUR_PINECONE_API_KEY>'"
   ]
  },
  {
   "cell_type": "code",
   "execution_count": 3,
   "id": "d8c2ec2b-5b63-465b-95fa-294ad18aa10a",
   "metadata": {},
   "outputs": [],
   "source": [
    "index_name = \"test\"\n",
    "embeddings = OpenAIEmbeddings()"
   ]
  },
  {
   "cell_type": "code",
   "execution_count": 17,
   "id": "ecfe3590-dd37-4572-ac8a-f13fbf741cfb",
   "metadata": {},
   "outputs": [],
   "source": [
    " # path to an example text file\n",
    "loader = TextLoader(\"./text_data/data.txt\",encoding = 'UTF-8')"
   ]
  },
  {
   "cell_type": "code",
   "execution_count": 18,
   "id": "f9f097bf-532b-4661-bc26-4c23878cdd6d",
   "metadata": {},
   "outputs": [],
   "source": [
    "documents = loader.load()"
   ]
  },
  {
   "cell_type": "code",
   "execution_count": 27,
   "id": "b3ac77a4-9b81-46db-915f-b9ba20f85789",
   "metadata": {},
   "outputs": [],
   "source": [
    "# text_splitter = CharacterTextSplitter(chunk_size=1000, chunk_overlap=0)\n",
    "text_splitter = RecursiveCharacterTextSplitter(chunk_size=1000, chunk_overlap=0, separators=[\" \", \",\", \"\\n\"])"
   ]
  },
  {
   "cell_type": "code",
   "execution_count": 28,
   "id": "6625cd7d-29a2-48da-8610-01b59f02fc83",
   "metadata": {},
   "outputs": [],
   "source": [
    "docs = text_splitter.split_documents(documents)"
   ]
  },
  {
   "cell_type": "code",
   "execution_count": 33,
   "id": "3328944d-3369-4d26-8688-431597035cd4",
   "metadata": {},
   "outputs": [],
   "source": [
    "# for i in docs:\n",
    "#     print(i.page_content)\n",
    "#     print(\"-------------------------------\")"
   ]
  },
  {
   "cell_type": "code",
   "execution_count": 34,
   "id": "196cc5b9-89f1-4637-a935-af2177560089",
   "metadata": {},
   "outputs": [],
   "source": [
    "vectorstore_from_docs = PineconeVectorStore.from_documents(\n",
    "        docs,\n",
    "        index_name=index_name,\n",
    "        embedding=embeddings\n",
    "    )"
   ]
  },
  {
   "cell_type": "code",
   "execution_count": 43,
   "id": "c7995e32-61a6-4735-bf83-d19244735466",
   "metadata": {},
   "outputs": [
    {
     "data": {
      "text/plain": [
       "VectorStoreRetriever(tags=['PineconeVectorStore', 'OpenAIEmbeddings'], vectorstore=<langchain_pinecone.vectorstores.PineconeVectorStore object at 0x000001B72D3F8990>)"
      ]
     },
     "execution_count": 43,
     "metadata": {},
     "output_type": "execute_result"
    }
   ],
   "source": [
    "vectorstore_from_docs.as_retriever()"
   ]
  },
  {
   "cell_type": "code",
   "execution_count": 46,
   "id": "44aa2c69-d012-4eda-b0e2-76e302db6edb",
   "metadata": {},
   "outputs": [
    {
     "name": "stderr",
     "output_type": "stream",
     "text": [
      "C:\\Users\\Vikas\\anaconda3\\envs\\GenAI\\Lib\\site-packages\\langchain_core\\_api\\deprecation.py:119: LangChainDeprecationWarning: The class `OpenAI` was deprecated in LangChain 0.0.10 and will be removed in 0.3.0. An updated version of the class exists in the langchain-openai package and should be used instead. To use it run `pip install -U langchain-openai` and import as `from langchain_openai import OpenAI`.\n",
      "  warn_deprecated(\n"
     ]
    }
   ],
   "source": [
    "llm = OpenAI()"
   ]
  },
  {
   "cell_type": "code",
   "execution_count": 49,
   "id": "fe4a4550-ed7d-4770-a06a-9efd68310232",
   "metadata": {},
   "outputs": [],
   "source": [
    "qa = RetrievalQA.from_chain_type(llm=llm, chain_type=\"stuff\", retriever=vectorstore_from_docs.as_retriever())"
   ]
  },
  {
   "cell_type": "code",
   "execution_count": 51,
   "id": "ff792221-3434-4dd2-8306-b217192a0d37",
   "metadata": {},
   "outputs": [
    {
     "name": "stderr",
     "output_type": "stream",
     "text": [
      "C:\\Users\\Vikas\\anaconda3\\envs\\GenAI\\Lib\\site-packages\\langchain_core\\_api\\deprecation.py:119: LangChainDeprecationWarning: The method `Chain.run` was deprecated in langchain 0.1.0 and will be removed in 0.3.0. Use invoke instead.\n",
      "  warn_deprecated(\n"
     ]
    },
    {
     "data": {
      "text/plain": [
       "' Thomas Brown Jr. is the uncle of Ketanji Brown Jackson, a judge and current nominee for the Supreme Court of the United States. He was sentenced to life in prison for a nonviolent cocaine conviction in 1989.'"
      ]
     },
     "execution_count": 51,
     "metadata": {},
     "output_type": "execute_result"
    }
   ],
   "source": [
    "qa.run(\"who is Thomas Brown Jr.\")"
   ]
  },
  {
   "cell_type": "code",
   "execution_count": 39,
   "id": "11809769-8167-4703-a522-1257159b014b",
   "metadata": {},
   "outputs": [],
   "source": [
    "# query = \"in which year, Thomas Brown Jr. was sentenced to life in prison?\"\n",
    "# res = vectorstore_from_docs.similarity_search(query)"
   ]
  },
  {
   "cell_type": "code",
   "execution_count": 52,
   "id": "8233cc59-be2d-447f-87b7-d53bde710002",
   "metadata": {},
   "outputs": [],
   "source": [
    "# for i in res:\n",
    "#     print(i.page_content)\n",
    "#     print(\"|||||||||||||||||||||||||||||||||\")\n",
    "#     print(i.metadata)\n",
    "#     print(\"-------------------------------\")"
   ]
  },
  {
   "cell_type": "markdown",
   "id": "4498071f-b69e-4572-b09c-6c3b18c9fb35",
   "metadata": {},
   "source": [
    "# code for system to ask query from user and revert from vectorDB"
   ]
  },
  {
   "cell_type": "code",
   "execution_count": null,
   "id": "0edb5c06-7d83-45a8-8094-f6d6c7a17b6c",
   "metadata": {},
   "outputs": [
    {
     "name": "stdin",
     "output_type": "stream",
     "text": [
      "Input Prompt:  who is Ketanji Brown Jackson?\n"
     ]
    },
    {
     "name": "stdout",
     "output_type": "stream",
     "text": [
      "Answer:  Ketanji Brown Jackson is an American lawyer and jurist who is currently an Associate Justice of the Supreme Court of the United States. She was nominated by President Joe Biden and assumed office on June 30, 2022. Prior to this, she served as a judge on the United States Court of Appeals for the District of Columbia Circuit and the United States District Court for the District of Columbia. She was also the Vice Chair of the United States Sentencing Commission from 2010 to 2014. \n"
     ]
    },
    {
     "name": "stdin",
     "output_type": "stream",
     "text": [
      "Input Prompt:  when she graduate?\n"
     ]
    },
    {
     "name": "stdout",
     "output_type": "stream",
     "text": [
      "Answer:  She graduated from Harvard in 1992 with a Bachelor of Arts, magna cum laude.\n"
     ]
    }
   ],
   "source": [
    "import sys\n",
    "while True:\n",
    "    user_input = input(f\"Input Prompt: \")\n",
    "    if user_input == 'exit':\n",
    "        print(\"Exiting\")\n",
    "        sys.exit()\n",
    "    if user_input == '':\n",
    "        continue\n",
    "    result = qa({'query':user_input})\n",
    "    print(f\"Answer: {result['result']}\")"
   ]
  },
  {
   "cell_type": "code",
   "execution_count": null,
   "id": "ad18e1f2-a155-4187-837d-61d806117292",
   "metadata": {},
   "outputs": [],
   "source": []
  }
 ],
 "metadata": {
  "kernelspec": {
   "display_name": "Python 3 (ipykernel)",
   "language": "python",
   "name": "python3"
  },
  "language_info": {
   "codemirror_mode": {
    "name": "ipython",
    "version": 3
   },
   "file_extension": ".py",
   "mimetype": "text/x-python",
   "name": "python",
   "nbconvert_exporter": "python",
   "pygments_lexer": "ipython3",
   "version": "3.11.9"
  }
 },
 "nbformat": 4,
 "nbformat_minor": 5
}
